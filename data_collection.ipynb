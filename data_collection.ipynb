{
 "cells": [
  {
   "cell_type": "code",
   "execution_count": 19,
   "metadata": {},
   "outputs": [],
   "source": [
    "import pandas as pd\n",
    "import tweepy\n",
    "from bs4 import BeautifulSoup\n",
    "import datetime\n",
    "from datetime import timedelta"
   ]
  },
  {
   "cell_type": "code",
   "execution_count": 20,
   "metadata": {},
   "outputs": [],
   "source": [
    "tweeters_dem_df = pd.read_csv('popular-tweeters-dem.csv') #Dataframe for list of Democratic Party politicians\n",
    "tweeters_rep_df = pd.read_csv('popular-tweeters-rep.csv') #Dataframe for list of Republican Party politicians\n",
    "tweeters_dem_df['Party'] = 'D'\n",
    "tweeters_rep_df['Party'] = 'R'\n",
    "tweeters_df = pd.concat([tweeters_dem_df, tweeters_rep_df], ignore_index = True) # Dataframe for combined list of politicians\n",
    "# print(tweeters_rep_df.shape)\n",
    "# print(tweeters_rep_df.shape)\n",
    "# tweeters_df\n",
    "tweeters_handle = list(tweeters_df['Twitter_Handle']) #Python list for politician Twitter handles\n",
    "# print(tweeters_handle)"
   ]
  },
  {
   "cell_type": "code",
   "execution_count": 4,
   "metadata": {},
   "outputs": [],
   "source": [
    "date_intervals = []\n",
    "request_urls = []\n",
    "\n",
    "day_delta = datetime.timedelta(days=4)\n",
    "\n",
    "start_date = datetime.date(2019, 1, 3)\n",
    "end_date = datetime.date.today()\n",
    "print('The dates from ' + str(start_date) + ' to ' + str(end_date))\n",
    "daterange = (end_date - start_date).days / day_delta.days + 2\n",
    "for i in range(int(daterange)):\n",
    "    inc_date = start_date + i*day_delta\n",
    "    if ((end_date - inc_date).days > 0):\n",
    "        date_intervals.append(inc_date)\n",
    "    else:\n",
    "        date_intervals.append(end_date)\n",
    "        break\n",
    "\n",
    "# We want to scrape three days at a time data from January 2019 to May 10, 2019.\n",
    "# URL format: https://twitter.com/search?l=&q=from%3A{TwitterHandle}%20since%3A{Start date YYYY-MM-DD}%20until%3A{Start date YYY-MM-DD + 4}\n",
    "for i in tweeters_handle:\n",
    "    request_url_stub = 'https://twitter.com/search?l=&q=from%3A' + i\n",
    "    for j in range(len(date_intervals) - 1):\n",
    "        start_date = date_intervals[j]\n",
    "        end_date = date_intervals[j+1] - timedelta(days=1)\n",
    "        request_urls.append(request_url_stub + '%20since%3A' + str(start_date) + '%20until%3A' + str(end_date))\n",
    "    request_urls.append(request_url_stub + '%20since%3A' + str(date_intervals[-1]) + '%20until%3A' + str(datetime.date.today()))\n"
   ]
  },
  {
   "cell_type": "code",
   "execution_count": 5,
   "metadata": {},
   "outputs": [
    {
     "ename": "SyntaxError",
     "evalue": "unexpected EOF while parsing (<ipython-input-5-e7968ab2631a>, line 2)",
     "output_type": "error",
     "traceback": [
      "\u001b[1;36m  File \u001b[1;32m\"<ipython-input-5-e7968ab2631a>\"\u001b[1;36m, line \u001b[1;32m2\u001b[0m\n\u001b[1;33m    \u001b[0m\n\u001b[1;37m    ^\u001b[0m\n\u001b[1;31mSyntaxError\u001b[0m\u001b[1;31m:\u001b[0m unexpected EOF while parsing\n"
     ]
    }
   ],
   "source": []
  },
  {
   "cell_type": "code",
   "execution_count": null,
   "metadata": {},
   "outputs": [],
   "source": []
  },
  {
   "cell_type": "code",
   "execution_count": 18,
   "metadata": {},
   "outputs": [
    {
     "name": "stdout",
     "output_type": "stream",
     "text": [
      "The dates from 2019-01-03 to 2019-05-10\n",
      "https://twitter.com/search?l=&q=from%3A@AOC%20since%3A2019-02-08%20until%3A2019-02-11\n"
     ]
    }
   ],
   "source": []
  },
  {
   "cell_type": "code",
   "execution_count": 14,
   "metadata": {},
   "outputs": [
    {
     "name": "stdout",
     "output_type": "stream",
     "text": [
      "2019-05-10\n"
     ]
    }
   ],
   "source": []
  },
  {
   "cell_type": "code",
   "execution_count": null,
   "metadata": {},
   "outputs": [],
   "source": []
  }
 ],
 "metadata": {
  "kernelspec": {
   "display_name": "Python 3",
   "language": "python",
   "name": "python3"
  },
  "language_info": {
   "codemirror_mode": {
    "name": "ipython",
    "version": 3
   },
   "file_extension": ".py",
   "mimetype": "text/x-python",
   "name": "python",
   "nbconvert_exporter": "python",
   "pygments_lexer": "ipython3",
   "version": "3.7.3"
  }
 },
 "nbformat": 4,
 "nbformat_minor": 2
}
